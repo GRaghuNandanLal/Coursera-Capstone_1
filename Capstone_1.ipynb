{
  "nbformat": 4,
  "nbformat_minor": 0,
  "metadata": {
    "colab": {
      "name": "Capstone_1.ipynb",
      "provenance": [],
      "collapsed_sections": []
    },
    "kernelspec": {
      "name": "python3",
      "display_name": "Python 3"
    },
    "language_info": {
      "name": "python"
    }
  },
  "cells": [
    {
      "cell_type": "markdown",
      "metadata": {
        "id": "5D32YGvmeQZS"
      },
      "source": [
        "Raghu Nandan Lal Garikipati                  \n",
        "190030483"
      ]
    },
    {
      "cell_type": "markdown",
      "metadata": {
        "id": "vooTN88Fc0ab"
      },
      "source": [
        "Coursera Capstone Project                            \n",
        "**This notebook will be used for the Coursera Capstone Project Assignments**"
      ]
    },
    {
      "cell_type": "code",
      "metadata": {
        "colab": {
          "base_uri": "https://localhost:8080/"
        },
        "id": "bUi_P6sVcz3P",
        "outputId": "216a6efd-75b1-4d0f-ed21-e0f4d67a99da"
      },
      "source": [
        "import pandas as pd\n",
        "import numpy as np\n",
        "print(\"Hello Capstone Project Course!\")"
      ],
      "execution_count": 4,
      "outputs": [
        {
          "output_type": "stream",
          "text": [
            "Hello Capstone Project Course!\n"
          ],
          "name": "stdout"
        }
      ]
    }
  ]
}